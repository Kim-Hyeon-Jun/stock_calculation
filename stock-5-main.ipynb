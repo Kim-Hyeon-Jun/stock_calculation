{
 "cells": [
  {
   "cell_type": "code",
   "execution_count": 1,
   "id": "971f081b",
   "metadata": {
    "execution": {
     "iopub.execute_input": "2023-01-01T02:03:50.435137Z",
     "iopub.status.busy": "2023-01-01T02:03:50.434637Z",
     "iopub.status.idle": "2023-01-01T02:03:51.450118Z",
     "shell.execute_reply": "2023-01-01T02:03:51.448341Z"
    },
    "papermill": {
     "duration": 1.029476,
     "end_time": "2023-01-01T02:03:51.453272",
     "exception": false,
     "start_time": "2023-01-01T02:03:50.423796",
     "status": "completed"
    },
    "tags": []
   },
   "outputs": [],
   "source": [
    "import numpy as np\n",
    "import pandas as pd\n",
    "import os\n",
    "from tqdm import tqdm\n",
    "import datetime as dt\n",
    "\n",
    "from sklearn.utils import resample, shuffle"
   ]
  },
  {
   "cell_type": "markdown",
   "id": "ac876de4",
   "metadata": {
    "papermill": {
     "duration": 0.007705,
     "end_time": "2023-01-01T02:03:51.469305",
     "exception": false,
     "start_time": "2023-01-01T02:03:51.461600",
     "status": "completed"
    },
    "tags": []
   },
   "source": [
    "# 년도별 데이터 나누기"
   ]
  },
  {
   "cell_type": "code",
   "execution_count": 2,
   "id": "404bb575",
   "metadata": {
    "execution": {
     "iopub.execute_input": "2023-01-01T02:03:51.488942Z",
     "iopub.status.busy": "2023-01-01T02:03:51.488524Z",
     "iopub.status.idle": "2023-01-01T02:03:55.329391Z",
     "shell.execute_reply": "2023-01-01T02:03:55.328122Z"
    },
    "papermill": {
     "duration": 3.853388,
     "end_time": "2023-01-01T02:03:55.331769",
     "exception": false,
     "start_time": "2023-01-01T02:03:51.478381",
     "status": "completed"
    },
    "tags": []
   },
   "outputs": [
    {
     "data": {
      "text/html": [
       "<div>\n",
       "<style scoped>\n",
       "    .dataframe tbody tr th:only-of-type {\n",
       "        vertical-align: middle;\n",
       "    }\n",
       "\n",
       "    .dataframe tbody tr th {\n",
       "        vertical-align: top;\n",
       "    }\n",
       "\n",
       "    .dataframe thead th {\n",
       "        text-align: right;\n",
       "    }\n",
       "</style>\n",
       "<table border=\"1\" class=\"dataframe\">\n",
       "  <thead>\n",
       "    <tr style=\"text-align: right;\">\n",
       "      <th></th>\n",
       "      <th>Date</th>\n",
       "      <th>Symbol</th>\n",
       "      <th>Adj Close</th>\n",
       "      <th>Close</th>\n",
       "      <th>High</th>\n",
       "      <th>Low</th>\n",
       "      <th>Open</th>\n",
       "      <th>Volume</th>\n",
       "    </tr>\n",
       "  </thead>\n",
       "  <tbody>\n",
       "    <tr>\n",
       "      <th>0</th>\n",
       "      <td>2010-01-04</td>\n",
       "      <td>MMM</td>\n",
       "      <td>59.318886</td>\n",
       "      <td>83.019997</td>\n",
       "      <td>83.449997</td>\n",
       "      <td>82.669998</td>\n",
       "      <td>83.089996</td>\n",
       "      <td>3043700.0</td>\n",
       "    </tr>\n",
       "    <tr>\n",
       "      <th>1</th>\n",
       "      <td>2010-01-05</td>\n",
       "      <td>MMM</td>\n",
       "      <td>58.947342</td>\n",
       "      <td>82.500000</td>\n",
       "      <td>83.230003</td>\n",
       "      <td>81.699997</td>\n",
       "      <td>82.800003</td>\n",
       "      <td>2847000.0</td>\n",
       "    </tr>\n",
       "    <tr>\n",
       "      <th>2</th>\n",
       "      <td>2010-01-06</td>\n",
       "      <td>MMM</td>\n",
       "      <td>59.783295</td>\n",
       "      <td>83.669998</td>\n",
       "      <td>84.599998</td>\n",
       "      <td>83.510002</td>\n",
       "      <td>83.879997</td>\n",
       "      <td>5268500.0</td>\n",
       "    </tr>\n",
       "    <tr>\n",
       "      <th>3</th>\n",
       "      <td>2010-01-07</td>\n",
       "      <td>MMM</td>\n",
       "      <td>59.826176</td>\n",
       "      <td>83.730003</td>\n",
       "      <td>83.760002</td>\n",
       "      <td>82.120003</td>\n",
       "      <td>83.320000</td>\n",
       "      <td>4470100.0</td>\n",
       "    </tr>\n",
       "    <tr>\n",
       "      <th>4</th>\n",
       "      <td>2010-01-08</td>\n",
       "      <td>MMM</td>\n",
       "      <td>60.247749</td>\n",
       "      <td>84.320000</td>\n",
       "      <td>84.320000</td>\n",
       "      <td>83.300003</td>\n",
       "      <td>83.690002</td>\n",
       "      <td>3405800.0</td>\n",
       "    </tr>\n",
       "    <tr>\n",
       "      <th>...</th>\n",
       "      <td>...</td>\n",
       "      <td>...</td>\n",
       "      <td>...</td>\n",
       "      <td>...</td>\n",
       "      <td>...</td>\n",
       "      <td>...</td>\n",
       "      <td>...</td>\n",
       "      <td>...</td>\n",
       "    </tr>\n",
       "    <tr>\n",
       "      <th>1638769</th>\n",
       "      <td>2022-12-05</td>\n",
       "      <td>ZTS</td>\n",
       "      <td>155.330002</td>\n",
       "      <td>155.330002</td>\n",
       "      <td>156.669998</td>\n",
       "      <td>154.580002</td>\n",
       "      <td>155.630005</td>\n",
       "      <td>2087400.0</td>\n",
       "    </tr>\n",
       "    <tr>\n",
       "      <th>1638770</th>\n",
       "      <td>2022-12-06</td>\n",
       "      <td>ZTS</td>\n",
       "      <td>153.050003</td>\n",
       "      <td>153.050003</td>\n",
       "      <td>155.500000</td>\n",
       "      <td>152.089996</td>\n",
       "      <td>154.220001</td>\n",
       "      <td>1964800.0</td>\n",
       "    </tr>\n",
       "    <tr>\n",
       "      <th>1638771</th>\n",
       "      <td>2022-12-07</td>\n",
       "      <td>ZTS</td>\n",
       "      <td>150.250000</td>\n",
       "      <td>150.250000</td>\n",
       "      <td>153.789993</td>\n",
       "      <td>149.380005</td>\n",
       "      <td>152.960007</td>\n",
       "      <td>2444100.0</td>\n",
       "    </tr>\n",
       "    <tr>\n",
       "      <th>1638772</th>\n",
       "      <td>2022-12-08</td>\n",
       "      <td>ZTS</td>\n",
       "      <td>153.679993</td>\n",
       "      <td>153.679993</td>\n",
       "      <td>154.350006</td>\n",
       "      <td>149.199997</td>\n",
       "      <td>150.529999</td>\n",
       "      <td>2267500.0</td>\n",
       "    </tr>\n",
       "    <tr>\n",
       "      <th>1638773</th>\n",
       "      <td>2022-12-09</td>\n",
       "      <td>ZTS</td>\n",
       "      <td>153.389999</td>\n",
       "      <td>153.389999</td>\n",
       "      <td>156.330002</td>\n",
       "      <td>152.740005</td>\n",
       "      <td>153.940002</td>\n",
       "      <td>3274900.0</td>\n",
       "    </tr>\n",
       "  </tbody>\n",
       "</table>\n",
       "<p>1638774 rows × 8 columns</p>\n",
       "</div>"
      ],
      "text/plain": [
       "               Date Symbol   Adj Close       Close        High         Low  \\\n",
       "0        2010-01-04    MMM   59.318886   83.019997   83.449997   82.669998   \n",
       "1        2010-01-05    MMM   58.947342   82.500000   83.230003   81.699997   \n",
       "2        2010-01-06    MMM   59.783295   83.669998   84.599998   83.510002   \n",
       "3        2010-01-07    MMM   59.826176   83.730003   83.760002   82.120003   \n",
       "4        2010-01-08    MMM   60.247749   84.320000   84.320000   83.300003   \n",
       "...             ...    ...         ...         ...         ...         ...   \n",
       "1638769  2022-12-05    ZTS  155.330002  155.330002  156.669998  154.580002   \n",
       "1638770  2022-12-06    ZTS  153.050003  153.050003  155.500000  152.089996   \n",
       "1638771  2022-12-07    ZTS  150.250000  150.250000  153.789993  149.380005   \n",
       "1638772  2022-12-08    ZTS  153.679993  153.679993  154.350006  149.199997   \n",
       "1638773  2022-12-09    ZTS  153.389999  153.389999  156.330002  152.740005   \n",
       "\n",
       "               Open     Volume  \n",
       "0         83.089996  3043700.0  \n",
       "1         82.800003  2847000.0  \n",
       "2         83.879997  5268500.0  \n",
       "3         83.320000  4470100.0  \n",
       "4         83.690002  3405800.0  \n",
       "...             ...        ...  \n",
       "1638769  155.630005  2087400.0  \n",
       "1638770  154.220001  1964800.0  \n",
       "1638771  152.960007  2444100.0  \n",
       "1638772  150.529999  2267500.0  \n",
       "1638773  153.940002  3274900.0  \n",
       "\n",
       "[1638774 rows x 8 columns]"
      ]
     },
     "execution_count": 2,
     "metadata": {},
     "output_type": "execute_result"
    }
   ],
   "source": [
    "stock_df= pd.read_csv('/kaggle/input/sp-500-10-22/sp500_stocks.csv')\n",
    "stock_df"
   ]
  },
  {
   "cell_type": "code",
   "execution_count": 3,
   "id": "3985bb34",
   "metadata": {
    "execution": {
     "iopub.execute_input": "2023-01-01T02:03:55.350014Z",
     "iopub.status.busy": "2023-01-01T02:03:55.349597Z",
     "iopub.status.idle": "2023-01-01T02:03:55.506281Z",
     "shell.execute_reply": "2023-01-01T02:03:55.505219Z"
    },
    "papermill": {
     "duration": 0.168852,
     "end_time": "2023-01-01T02:03:55.508993",
     "exception": false,
     "start_time": "2023-01-01T02:03:55.340141",
     "status": "completed"
    },
    "tags": []
   },
   "outputs": [
    {
     "name": "stdout",
     "output_type": "stream",
     "text": [
      "<class 'pandas.core.frame.DataFrame'>\n",
      "RangeIndex: 1638774 entries, 0 to 1638773\n",
      "Data columns (total 8 columns):\n",
      " #   Column     Non-Null Count    Dtype  \n",
      "---  ------     --------------    -----  \n",
      " 0   Date       1638774 non-null  object \n",
      " 1   Symbol     1638774 non-null  object \n",
      " 2   Adj Close  1569847 non-null  float64\n",
      " 3   Close      1569847 non-null  float64\n",
      " 4   High       1569847 non-null  float64\n",
      " 5   Low        1569847 non-null  float64\n",
      " 6   Open       1569847 non-null  float64\n",
      " 7   Volume     1569847 non-null  float64\n",
      "dtypes: float64(6), object(2)\n",
      "memory usage: 100.0+ MB\n"
     ]
    }
   ],
   "source": [
    "stock_df.info(verbose=True)"
   ]
  },
  {
   "cell_type": "markdown",
   "id": "679f6ced",
   "metadata": {
    "papermill": {
     "duration": 0.008452,
     "end_time": "2023-01-01T02:03:55.528619",
     "exception": false,
     "start_time": "2023-01-01T02:03:55.520167",
     "status": "completed"
    },
    "tags": []
   },
   "source": [
    "### 널값은 제외"
   ]
  },
  {
   "cell_type": "code",
   "execution_count": 4,
   "id": "9246c47a",
   "metadata": {
    "execution": {
     "iopub.execute_input": "2023-01-01T02:03:55.548767Z",
     "iopub.status.busy": "2023-01-01T02:03:55.547945Z",
     "iopub.status.idle": "2023-01-01T02:03:55.802058Z",
     "shell.execute_reply": "2023-01-01T02:03:55.800635Z"
    },
    "papermill": {
     "duration": 0.267417,
     "end_time": "2023-01-01T02:03:55.804708",
     "exception": false,
     "start_time": "2023-01-01T02:03:55.537291",
     "status": "completed"
    },
    "tags": []
   },
   "outputs": [],
   "source": [
    "stock_df = stock_df.dropna(axis=0)"
   ]
  },
  {
   "cell_type": "code",
   "execution_count": 5,
   "id": "72269c78",
   "metadata": {
    "execution": {
     "iopub.execute_input": "2023-01-01T02:03:55.823595Z",
     "iopub.status.busy": "2023-01-01T02:03:55.823226Z",
     "iopub.status.idle": "2023-01-01T02:03:55.850661Z",
     "shell.execute_reply": "2023-01-01T02:03:55.849138Z"
    },
    "papermill": {
     "duration": 0.040081,
     "end_time": "2023-01-01T02:03:55.853243",
     "exception": false,
     "start_time": "2023-01-01T02:03:55.813162",
     "status": "completed"
    },
    "tags": []
   },
   "outputs": [
    {
     "name": "stderr",
     "output_type": "stream",
     "text": [
      "/opt/conda/lib/python3.7/site-packages/ipykernel_launcher.py:1: SettingWithCopyWarning: \n",
      "A value is trying to be set on a copy of a slice from a DataFrame.\n",
      "Try using .loc[row_indexer,col_indexer] = value instead\n",
      "\n",
      "See the caveats in the documentation: https://pandas.pydata.org/pandas-docs/stable/user_guide/indexing.html#returning-a-view-versus-a-copy\n",
      "  \"\"\"Entry point for launching an IPython kernel.\n"
     ]
    },
    {
     "data": {
      "text/html": [
       "<div>\n",
       "<style scoped>\n",
       "    .dataframe tbody tr th:only-of-type {\n",
       "        vertical-align: middle;\n",
       "    }\n",
       "\n",
       "    .dataframe tbody tr th {\n",
       "        vertical-align: top;\n",
       "    }\n",
       "\n",
       "    .dataframe thead th {\n",
       "        text-align: right;\n",
       "    }\n",
       "</style>\n",
       "<table border=\"1\" class=\"dataframe\">\n",
       "  <thead>\n",
       "    <tr style=\"text-align: right;\">\n",
       "      <th></th>\n",
       "      <th>Date</th>\n",
       "      <th>Symbol</th>\n",
       "      <th>Adj Close</th>\n",
       "      <th>Close</th>\n",
       "      <th>High</th>\n",
       "      <th>Low</th>\n",
       "      <th>Open</th>\n",
       "      <th>Volume</th>\n",
       "      <th>rate</th>\n",
       "    </tr>\n",
       "  </thead>\n",
       "  <tbody>\n",
       "    <tr>\n",
       "      <th>0</th>\n",
       "      <td>2010-01-04</td>\n",
       "      <td>MMM</td>\n",
       "      <td>59.318886</td>\n",
       "      <td>83.019997</td>\n",
       "      <td>83.449997</td>\n",
       "      <td>82.669998</td>\n",
       "      <td>83.089996</td>\n",
       "      <td>3043700.0</td>\n",
       "      <td>-0.084246</td>\n",
       "    </tr>\n",
       "    <tr>\n",
       "      <th>1</th>\n",
       "      <td>2010-01-05</td>\n",
       "      <td>MMM</td>\n",
       "      <td>58.947342</td>\n",
       "      <td>82.500000</td>\n",
       "      <td>83.230003</td>\n",
       "      <td>81.699997</td>\n",
       "      <td>82.800003</td>\n",
       "      <td>2847000.0</td>\n",
       "      <td>-0.362323</td>\n",
       "    </tr>\n",
       "    <tr>\n",
       "      <th>2</th>\n",
       "      <td>2010-01-06</td>\n",
       "      <td>MMM</td>\n",
       "      <td>59.783295</td>\n",
       "      <td>83.669998</td>\n",
       "      <td>84.599998</td>\n",
       "      <td>83.510002</td>\n",
       "      <td>83.879997</td>\n",
       "      <td>5268500.0</td>\n",
       "      <td>-0.250357</td>\n",
       "    </tr>\n",
       "    <tr>\n",
       "      <th>3</th>\n",
       "      <td>2010-01-07</td>\n",
       "      <td>MMM</td>\n",
       "      <td>59.826176</td>\n",
       "      <td>83.730003</td>\n",
       "      <td>83.760002</td>\n",
       "      <td>82.120003</td>\n",
       "      <td>83.320000</td>\n",
       "      <td>4470100.0</td>\n",
       "      <td>0.492083</td>\n",
       "    </tr>\n",
       "    <tr>\n",
       "      <th>4</th>\n",
       "      <td>2010-01-08</td>\n",
       "      <td>MMM</td>\n",
       "      <td>60.247749</td>\n",
       "      <td>84.320000</td>\n",
       "      <td>84.320000</td>\n",
       "      <td>83.300003</td>\n",
       "      <td>83.690002</td>\n",
       "      <td>3405800.0</td>\n",
       "      <td>0.752775</td>\n",
       "    </tr>\n",
       "    <tr>\n",
       "      <th>...</th>\n",
       "      <td>...</td>\n",
       "      <td>...</td>\n",
       "      <td>...</td>\n",
       "      <td>...</td>\n",
       "      <td>...</td>\n",
       "      <td>...</td>\n",
       "      <td>...</td>\n",
       "      <td>...</td>\n",
       "      <td>...</td>\n",
       "    </tr>\n",
       "    <tr>\n",
       "      <th>1638769</th>\n",
       "      <td>2022-12-05</td>\n",
       "      <td>ZTS</td>\n",
       "      <td>155.330002</td>\n",
       "      <td>155.330002</td>\n",
       "      <td>156.669998</td>\n",
       "      <td>154.580002</td>\n",
       "      <td>155.630005</td>\n",
       "      <td>2087400.0</td>\n",
       "      <td>-0.192767</td>\n",
       "    </tr>\n",
       "    <tr>\n",
       "      <th>1638770</th>\n",
       "      <td>2022-12-06</td>\n",
       "      <td>ZTS</td>\n",
       "      <td>153.050003</td>\n",
       "      <td>153.050003</td>\n",
       "      <td>155.500000</td>\n",
       "      <td>152.089996</td>\n",
       "      <td>154.220001</td>\n",
       "      <td>1964800.0</td>\n",
       "      <td>-0.758655</td>\n",
       "    </tr>\n",
       "    <tr>\n",
       "      <th>1638771</th>\n",
       "      <td>2022-12-07</td>\n",
       "      <td>ZTS</td>\n",
       "      <td>150.250000</td>\n",
       "      <td>150.250000</td>\n",
       "      <td>153.789993</td>\n",
       "      <td>149.380005</td>\n",
       "      <td>152.960007</td>\n",
       "      <td>2444100.0</td>\n",
       "      <td>-1.771709</td>\n",
       "    </tr>\n",
       "    <tr>\n",
       "      <th>1638772</th>\n",
       "      <td>2022-12-08</td>\n",
       "      <td>ZTS</td>\n",
       "      <td>153.679993</td>\n",
       "      <td>153.679993</td>\n",
       "      <td>154.350006</td>\n",
       "      <td>149.199997</td>\n",
       "      <td>150.529999</td>\n",
       "      <td>2267500.0</td>\n",
       "      <td>2.092602</td>\n",
       "    </tr>\n",
       "    <tr>\n",
       "      <th>1638773</th>\n",
       "      <td>2022-12-09</td>\n",
       "      <td>ZTS</td>\n",
       "      <td>153.389999</td>\n",
       "      <td>153.389999</td>\n",
       "      <td>156.330002</td>\n",
       "      <td>152.740005</td>\n",
       "      <td>153.940002</td>\n",
       "      <td>3274900.0</td>\n",
       "      <td>-0.357284</td>\n",
       "    </tr>\n",
       "  </tbody>\n",
       "</table>\n",
       "<p>1569847 rows × 9 columns</p>\n",
       "</div>"
      ],
      "text/plain": [
       "               Date Symbol   Adj Close       Close        High         Low  \\\n",
       "0        2010-01-04    MMM   59.318886   83.019997   83.449997   82.669998   \n",
       "1        2010-01-05    MMM   58.947342   82.500000   83.230003   81.699997   \n",
       "2        2010-01-06    MMM   59.783295   83.669998   84.599998   83.510002   \n",
       "3        2010-01-07    MMM   59.826176   83.730003   83.760002   82.120003   \n",
       "4        2010-01-08    MMM   60.247749   84.320000   84.320000   83.300003   \n",
       "...             ...    ...         ...         ...         ...         ...   \n",
       "1638769  2022-12-05    ZTS  155.330002  155.330002  156.669998  154.580002   \n",
       "1638770  2022-12-06    ZTS  153.050003  153.050003  155.500000  152.089996   \n",
       "1638771  2022-12-07    ZTS  150.250000  150.250000  153.789993  149.380005   \n",
       "1638772  2022-12-08    ZTS  153.679993  153.679993  154.350006  149.199997   \n",
       "1638773  2022-12-09    ZTS  153.389999  153.389999  156.330002  152.740005   \n",
       "\n",
       "               Open     Volume      rate  \n",
       "0         83.089996  3043700.0 -0.084246  \n",
       "1         82.800003  2847000.0 -0.362323  \n",
       "2         83.879997  5268500.0 -0.250357  \n",
       "3         83.320000  4470100.0  0.492083  \n",
       "4         83.690002  3405800.0  0.752775  \n",
       "...             ...        ...       ...  \n",
       "1638769  155.630005  2087400.0 -0.192767  \n",
       "1638770  154.220001  1964800.0 -0.758655  \n",
       "1638771  152.960007  2444100.0 -1.771709  \n",
       "1638772  150.529999  2267500.0  2.092602  \n",
       "1638773  153.940002  3274900.0 -0.357284  \n",
       "\n",
       "[1569847 rows x 9 columns]"
      ]
     },
     "execution_count": 5,
     "metadata": {},
     "output_type": "execute_result"
    }
   ],
   "source": [
    "stock_df['rate'] = ((stock_df.Close - stock_df.Open)/ stock_df.Open)*100\n",
    "stock_df"
   ]
  },
  {
   "cell_type": "code",
   "execution_count": 6,
   "id": "a8e1938b",
   "metadata": {
    "execution": {
     "iopub.execute_input": "2023-01-01T02:03:55.873836Z",
     "iopub.status.busy": "2023-01-01T02:03:55.873426Z",
     "iopub.status.idle": "2023-01-01T02:04:03.533777Z",
     "shell.execute_reply": "2023-01-01T02:04:03.532338Z"
    },
    "papermill": {
     "duration": 7.673595,
     "end_time": "2023-01-01T02:04:03.536768",
     "exception": false,
     "start_time": "2023-01-01T02:03:55.863173",
     "status": "completed"
    },
    "tags": []
   },
   "outputs": [],
   "source": [
    "df_10 = stock_df[stock_df.Date.str.contains('2010')]\n",
    "df_11 = stock_df[stock_df.Date.str.contains('2011')]\n",
    "df_12 = stock_df[stock_df.Date.str.contains('2012')]\n",
    "df_13 = stock_df[stock_df.Date.str.contains('2013')]\n",
    "df_14 = stock_df[stock_df.Date.str.contains('2014')]\n",
    "df_15 = stock_df[stock_df.Date.str.contains('2015')]\n",
    "df_16 = stock_df[stock_df.Date.str.contains('2016')]\n",
    "df_17 = stock_df[stock_df.Date.str.contains('2017')]\n",
    "df_18 = stock_df[stock_df.Date.str.contains('2018')]\n",
    "df_19 = stock_df[stock_df.Date.str.contains('2019')]\n",
    "df_20 = stock_df[stock_df.Date.str.contains('2020')]\n",
    "df_21 = stock_df[stock_df.Date.str.contains('2021')]\n",
    "df_22 = stock_df[stock_df.Date.str.contains('2022')]"
   ]
  },
  {
   "cell_type": "markdown",
   "id": "d1cd10a5",
   "metadata": {
    "papermill": {
     "duration": 0.008797,
     "end_time": "2023-01-01T02:04:03.554942",
     "exception": false,
     "start_time": "2023-01-01T02:04:03.546145",
     "status": "completed"
    },
    "tags": []
   },
   "source": [
    "## 2010년"
   ]
  },
  {
   "cell_type": "code",
   "execution_count": 7,
   "id": "231af305",
   "metadata": {
    "execution": {
     "iopub.execute_input": "2023-01-01T02:04:03.576026Z",
     "iopub.status.busy": "2023-01-01T02:04:03.574617Z",
     "iopub.status.idle": "2023-01-01T02:04:03.581098Z",
     "shell.execute_reply": "2023-01-01T02:04:03.579361Z"
    },
    "papermill": {
     "duration": 0.019696,
     "end_time": "2023-01-01T02:04:03.583811",
     "exception": false,
     "start_time": "2023-01-01T02:04:03.564115",
     "status": "completed"
    },
    "tags": []
   },
   "outputs": [],
   "source": [
    "# 종목중 한해에 20%이상의 변동율을 보이는 종목이 몇개인지 확인하기\n",
    "# "
   ]
  },
  {
   "cell_type": "code",
   "execution_count": 8,
   "id": "0be5e643",
   "metadata": {
    "execution": {
     "iopub.execute_input": "2023-01-01T02:04:03.603915Z",
     "iopub.status.busy": "2023-01-01T02:04:03.603491Z",
     "iopub.status.idle": "2023-01-01T02:04:03.608817Z",
     "shell.execute_reply": "2023-01-01T02:04:03.607394Z"
    },
    "papermill": {
     "duration": 0.018047,
     "end_time": "2023-01-01T02:04:03.611434",
     "exception": false,
     "start_time": "2023-01-01T02:04:03.593387",
     "status": "completed"
    },
    "tags": []
   },
   "outputs": [],
   "source": [
    "df_year = df_10"
   ]
  },
  {
   "cell_type": "code",
   "execution_count": 9,
   "id": "6e992af8",
   "metadata": {
    "execution": {
     "iopub.execute_input": "2023-01-01T02:04:03.631696Z",
     "iopub.status.busy": "2023-01-01T02:04:03.631259Z",
     "iopub.status.idle": "2023-01-01T02:04:03.645597Z",
     "shell.execute_reply": "2023-01-01T02:04:03.643056Z"
    },
    "papermill": {
     "duration": 0.028613,
     "end_time": "2023-01-01T02:04:03.649492",
     "exception": false,
     "start_time": "2023-01-01T02:04:03.620879",
     "status": "completed"
    },
    "tags": []
   },
   "outputs": [],
   "source": [
    "df_year_symbol_list = df_year.Symbol.unique()"
   ]
  },
  {
   "cell_type": "code",
   "execution_count": 10,
   "id": "e54c4ab1",
   "metadata": {
    "execution": {
     "iopub.execute_input": "2023-01-01T02:04:03.672494Z",
     "iopub.status.busy": "2023-01-01T02:04:03.672046Z",
     "iopub.status.idle": "2023-01-01T02:04:10.537371Z",
     "shell.execute_reply": "2023-01-01T02:04:10.536277Z"
    },
    "papermill": {
     "duration": 6.879554,
     "end_time": "2023-01-01T02:04:10.540149",
     "exception": false,
     "start_time": "2023-01-01T02:04:03.660595",
     "status": "completed"
    },
    "tags": []
   },
   "outputs": [],
   "source": [
    "min_list = []\n",
    "max_list = []\n",
    "for symbol in df_year_symbol_list:\n",
    "    min_list.append(df_year.loc[df_year.Symbol == symbol].Close.min())\n",
    "    max_list.append(df_year.loc[df_year.Symbol == symbol].Close.max())"
   ]
  },
  {
   "cell_type": "code",
   "execution_count": 11,
   "id": "c3df9358",
   "metadata": {
    "execution": {
     "iopub.execute_input": "2023-01-01T02:04:10.560131Z",
     "iopub.status.busy": "2023-01-01T02:04:10.559612Z",
     "iopub.status.idle": "2023-01-01T02:04:10.564666Z",
     "shell.execute_reply": "2023-01-01T02:04:10.563708Z"
    },
    "papermill": {
     "duration": 0.017721,
     "end_time": "2023-01-01T02:04:10.566856",
     "exception": false,
     "start_time": "2023-01-01T02:04:10.549135",
     "status": "completed"
    },
    "tags": []
   },
   "outputs": [],
   "source": [
    "close_d = {'symbol': df_year_symbol_list, 'min': min_list, 'max' : max_list}"
   ]
  },
  {
   "cell_type": "code",
   "execution_count": 12,
   "id": "8f8f3c6a",
   "metadata": {
    "execution": {
     "iopub.execute_input": "2023-01-01T02:04:10.588613Z",
     "iopub.status.busy": "2023-01-01T02:04:10.588021Z",
     "iopub.status.idle": "2023-01-01T02:04:10.600315Z",
     "shell.execute_reply": "2023-01-01T02:04:10.598212Z"
    },
    "papermill": {
     "duration": 0.027632,
     "end_time": "2023-01-01T02:04:10.604209",
     "exception": false,
     "start_time": "2023-01-01T02:04:10.576577",
     "status": "completed"
    },
    "tags": []
   },
   "outputs": [],
   "source": [
    "close_df = pd.DataFrame(data = close_d)\n",
    "close_df['percent'] = close_df['max'] / close_df['min']\n",
    "close_df['target'] = close_df['percent'].apply(lambda x : 1 if x >= 1.2 else 0 )"
   ]
  },
  {
   "cell_type": "code",
   "execution_count": 13,
   "id": "904d57b7",
   "metadata": {
    "execution": {
     "iopub.execute_input": "2023-01-01T02:04:10.631781Z",
     "iopub.status.busy": "2023-01-01T02:04:10.630909Z",
     "iopub.status.idle": "2023-01-01T02:04:10.646211Z",
     "shell.execute_reply": "2023-01-01T02:04:10.643942Z"
    },
    "papermill": {
     "duration": 0.033119,
     "end_time": "2023-01-01T02:04:10.650349",
     "exception": false,
     "start_time": "2023-01-01T02:04:10.617230",
     "status": "completed"
    },
    "tags": []
   },
   "outputs": [
    {
     "data": {
      "text/plain": [
       "1    425\n",
       "0     25\n",
       "Name: target, dtype: int64"
      ]
     },
     "execution_count": 13,
     "metadata": {},
     "output_type": "execute_result"
    }
   ],
   "source": [
    "close_df.target.value_counts()\n",
    "# => 이정도면 해볼만 하다.\n",
    "# 내일 할것\n",
    "# 1. max날짜와 min날짜 비교해보기"
   ]
  },
  {
   "cell_type": "code",
   "execution_count": 14,
   "id": "5ae6995e",
   "metadata": {
    "execution": {
     "iopub.execute_input": "2023-01-01T02:04:10.676757Z",
     "iopub.status.busy": "2023-01-01T02:04:10.675367Z",
     "iopub.status.idle": "2023-01-01T02:04:10.909620Z",
     "shell.execute_reply": "2023-01-01T02:04:10.908458Z"
    },
    "papermill": {
     "duration": 0.251163,
     "end_time": "2023-01-01T02:04:10.912029",
     "exception": false,
     "start_time": "2023-01-01T02:04:10.660866",
     "status": "completed"
    },
    "tags": []
   },
   "outputs": [
    {
     "data": {
      "text/plain": [
       "<AxesSubplot:>"
      ]
     },
     "execution_count": 14,
     "metadata": {},
     "output_type": "execute_result"
    },
    {
     "data": {
      "image/png": "[encoded data removed]",
      "text/plain": [
       "<Figure size 432x288 with 1 Axes>"
      ]
     },
     "metadata": {
      "needs_background": "light"
     },
     "output_type": "display_data"
    }
   ],
   "source": [
    "close_df.percent.hist()"
   ]
  },
  {
   "cell_type": "code",
   "execution_count": 15,
   "id": "5e8028f1",
   "metadata": {
    "execution": {
     "iopub.execute_input": "2023-01-01T02:04:10.933413Z",
     "iopub.status.busy": "2023-01-01T02:04:10.932308Z",
     "iopub.status.idle": "2023-01-01T02:04:10.939552Z",
     "shell.execute_reply": "2023-01-01T02:04:10.937980Z"
    },
    "papermill": {
     "duration": 0.020937,
     "end_time": "2023-01-01T02:04:10.942513",
     "exception": false,
     "start_time": "2023-01-01T02:04:10.921576",
     "status": "completed"
    },
    "tags": []
   },
   "outputs": [],
   "source": [
    "t_1_symbol_list = close_df.loc[close_df['target'] == 1].symbol.to_list()"
   ]
  },
  {
   "cell_type": "markdown",
   "id": "9e1a42a3",
   "metadata": {
    "papermill": {
     "duration": 0.009277,
     "end_time": "2023-01-01T02:04:10.961746",
     "exception": false,
     "start_time": "2023-01-01T02:04:10.952469",
     "status": "completed"
    },
    "tags": []
   },
   "source": [
    "## 날짜 확인"
   ]
  },
  {
   "cell_type": "code",
   "execution_count": 16,
   "id": "cae0cea3",
   "metadata": {
    "execution": {
     "iopub.execute_input": "2023-01-01T02:04:10.982997Z",
     "iopub.status.busy": "2023-01-01T02:04:10.982556Z",
     "iopub.status.idle": "2023-01-01T02:04:25.769847Z",
     "shell.execute_reply": "2023-01-01T02:04:25.768693Z"
    },
    "papermill": {
     "duration": 14.800544,
     "end_time": "2023-01-01T02:04:25.771757",
     "exception": false,
     "start_time": "2023-01-01T02:04:10.971213",
     "status": "completed"
    },
    "tags": []
   },
   "outputs": [
    {
     "name": "stderr",
     "output_type": "stream",
     "text": [
      "100%|██████████| 425/425 [00:14<00:00, 28.77it/s]\n"
     ]
    }
   ],
   "source": [
    "date_df = pd.DataFrame()\n",
    "\n",
    "for symbol in tqdm(t_1_symbol_list):\n",
    "    max_value = df_year.loc[df_year['Symbol'] == symbol].Close.max()\n",
    "    min_value = df_year.loc[df_year['Symbol'] == symbol].Close.min()\n",
    "\n",
    "    min_data = df_year.loc[(df_year['Symbol'] == symbol) & (df_year['Close'] == min_value)][['Date','Symbol','Close']]\n",
    "    max_data = df_year.loc[(df_year['Symbol'] == symbol) & (df_year['Close'] == max_value)][['Date','Symbol', 'Close']]\n",
    "\n",
    "    date_df = pd.concat([date_df, min_data])\n",
    "    date_df = pd.concat([date_df, max_data])"
   ]
  },
  {
   "cell_type": "code",
   "execution_count": 17,
   "id": "5f81a967",
   "metadata": {
    "execution": {
     "iopub.execute_input": "2023-01-01T02:04:25.807244Z",
     "iopub.status.busy": "2023-01-01T02:04:25.806859Z",
     "iopub.status.idle": "2023-01-01T02:04:26.266233Z",
     "shell.execute_reply": "2023-01-01T02:04:26.264608Z"
    },
    "papermill": {
     "duration": 0.481115,
     "end_time": "2023-01-01T02:04:26.269618",
     "exception": false,
     "start_time": "2023-01-01T02:04:25.788503",
     "status": "completed"
    },
    "tags": []
   },
   "outputs": [
    {
     "name": "stderr",
     "output_type": "stream",
     "text": [
      "100%|██████████| 425/425 [00:00<00:00, 962.72it/s]\n"
     ]
    },
    {
     "data": {
      "text/html": [
       "<div>\n",
       "<style scoped>\n",
       "    .dataframe tbody tr th:only-of-type {\n",
       "        vertical-align: middle;\n",
       "    }\n",
       "\n",
       "    .dataframe tbody tr th {\n",
       "        vertical-align: top;\n",
       "    }\n",
       "\n",
       "    .dataframe thead th {\n",
       "        text-align: right;\n",
       "    }\n",
       "</style>\n",
       "<table border=\"1\" class=\"dataframe\">\n",
       "  <thead>\n",
       "    <tr style=\"text-align: right;\">\n",
       "      <th></th>\n",
       "      <th>Symbol</th>\n",
       "      <th>check</th>\n",
       "    </tr>\n",
       "  </thead>\n",
       "  <tbody>\n",
       "    <tr>\n",
       "      <th>0</th>\n",
       "      <td>MMM</td>\n",
       "      <td>True</td>\n",
       "    </tr>\n",
       "    <tr>\n",
       "      <th>0</th>\n",
       "      <td>AOS</td>\n",
       "      <td>True</td>\n",
       "    </tr>\n",
       "    <tr>\n",
       "      <th>0</th>\n",
       "      <td>ABT</td>\n",
       "      <td>False</td>\n",
       "    </tr>\n",
       "    <tr>\n",
       "      <th>0</th>\n",
       "      <td>ABMD</td>\n",
       "      <td>True</td>\n",
       "    </tr>\n",
       "    <tr>\n",
       "      <th>0</th>\n",
       "      <td>ACN</td>\n",
       "      <td>True</td>\n",
       "    </tr>\n",
       "  </tbody>\n",
       "</table>\n",
       "</div>"
      ],
      "text/plain": [
       "  Symbol  check\n",
       "0    MMM   True\n",
       "0    AOS   True\n",
       "0    ABT  False\n",
       "0   ABMD   True\n",
       "0    ACN   True"
      ]
     },
     "execution_count": 17,
     "metadata": {},
     "output_type": "execute_result"
    }
   ],
   "source": [
    "date_check_df = pd.DataFrame()\n",
    "for symbol in tqdm(t_1_symbol_list):\n",
    "    symbol_date = date_df.loc[date_df['Symbol'] == symbol]['Date'].values\n",
    "    ex_check_list = [symbol, symbol_date[0] < symbol_date[1]]\n",
    "    ex_check_df = pd.DataFrame(np.array([ex_check_list]), columns=['Symbol', 'check'])\n",
    "    date_check_df = pd.concat([date_check_df, ex_check_df])\n",
    "    \n",
    "date_check_df.head()"
   ]
  },
  {
   "cell_type": "code",
   "execution_count": 18,
   "id": "0fa88a0f",
   "metadata": {
    "execution": {
     "iopub.execute_input": "2023-01-01T02:04:26.306600Z",
     "iopub.status.busy": "2023-01-01T02:04:26.306266Z",
     "iopub.status.idle": "2023-01-01T02:04:26.313386Z",
     "shell.execute_reply": "2023-01-01T02:04:26.311805Z"
    },
    "papermill": {
     "duration": 0.028607,
     "end_time": "2023-01-01T02:04:26.315980",
     "exception": false,
     "start_time": "2023-01-01T02:04:26.287373",
     "status": "completed"
    },
    "tags": []
   },
   "outputs": [],
   "source": [
    "symbol_date = date_df.loc[date_df['Symbol'] == symbol]['Date'].values\n",
    "ex_check_list = [symbol, symbol_date[0] < symbol_date[1]]"
   ]
  },
  {
   "cell_type": "code",
   "execution_count": 19,
   "id": "7fe5db5e",
   "metadata": {
    "execution": {
     "iopub.execute_input": "2023-01-01T02:04:26.354706Z",
     "iopub.status.busy": "2023-01-01T02:04:26.353111Z",
     "iopub.status.idle": "2023-01-01T02:04:26.360868Z",
     "shell.execute_reply": "2023-01-01T02:04:26.358664Z"
    },
    "papermill": {
     "duration": 0.029991,
     "end_time": "2023-01-01T02:04:26.364028",
     "exception": false,
     "start_time": "2023-01-01T02:04:26.334037",
     "status": "completed"
    },
    "tags": []
   },
   "outputs": [],
   "source": [
    "date_check_df = date_check_df.reset_index(drop=True)"
   ]
  },
  {
   "cell_type": "code",
   "execution_count": 20,
   "id": "45f52093",
   "metadata": {
    "execution": {
     "iopub.execute_input": "2023-01-01T02:04:26.401281Z",
     "iopub.status.busy": "2023-01-01T02:04:26.400867Z",
     "iopub.status.idle": "2023-01-01T02:04:26.411994Z",
     "shell.execute_reply": "2023-01-01T02:04:26.409796Z"
    },
    "papermill": {
     "duration": 0.033309,
     "end_time": "2023-01-01T02:04:26.415203",
     "exception": false,
     "start_time": "2023-01-01T02:04:26.381894",
     "status": "completed"
    },
    "tags": []
   },
   "outputs": [
    {
     "data": {
      "text/plain": [
       "True     314\n",
       "False    111\n",
       "Name: check, dtype: int64"
      ]
     },
     "execution_count": 20,
     "metadata": {},
     "output_type": "execute_result"
    }
   ],
   "source": [
    "date_check_df.iloc[:,1].value_counts()\n",
    "# 314개 종목이 증가형 변동을 보임."
   ]
  },
  {
   "cell_type": "markdown",
   "id": "56b8cab5",
   "metadata": {
    "papermill": {
     "duration": 0.018526,
     "end_time": "2023-01-01T02:04:26.452662",
     "exception": false,
     "start_time": "2023-01-01T02:04:26.434136",
     "status": "completed"
    },
    "tags": []
   },
   "source": [
    "### 날자 간격 확인"
   ]
  },
  {
   "cell_type": "code",
   "execution_count": 21,
   "id": "2c0dfa29",
   "metadata": {
    "execution": {
     "iopub.execute_input": "2023-01-01T02:04:26.492321Z",
     "iopub.status.busy": "2023-01-01T02:04:26.491910Z",
     "iopub.status.idle": "2023-01-01T02:04:26.928332Z",
     "shell.execute_reply": "2023-01-01T02:04:26.926596Z"
    },
    "papermill": {
     "duration": 0.458537,
     "end_time": "2023-01-01T02:04:26.930547",
     "exception": false,
     "start_time": "2023-01-01T02:04:26.472010",
     "status": "completed"
    },
    "tags": []
   },
   "outputs": [
    {
     "name": "stderr",
     "output_type": "stream",
     "text": [
      "/opt/conda/lib/python3.7/site-packages/ipykernel_launcher.py:20: SettingWithCopyWarning: \n",
      "A value is trying to be set on a copy of a slice from a DataFrame.\n",
      "Try using .loc[row_indexer,col_indexer] = value instead\n",
      "\n",
      "See the caveats in the documentation: https://pandas.pydata.org/pandas-docs/stable/user_guide/indexing.html#returning-a-view-versus-a-copy\n",
      "/opt/conda/lib/python3.7/site-packages/ipykernel_launcher.py:21: SettingWithCopyWarning: \n",
      "A value is trying to be set on a copy of a slice from a DataFrame.\n",
      "Try using .loc[row_indexer,col_indexer] = value instead\n",
      "\n",
      "See the caveats in the documentation: https://pandas.pydata.org/pandas-docs/stable/user_guide/indexing.html#returning-a-view-versus-a-copy\n",
      "/opt/conda/lib/python3.7/site-packages/ipykernel_launcher.py:22: SettingWithCopyWarning: \n",
      "A value is trying to be set on a copy of a slice from a DataFrame.\n",
      "Try using .loc[row_indexer,col_indexer] = value instead\n",
      "\n",
      "See the caveats in the documentation: https://pandas.pydata.org/pandas-docs/stable/user_guide/indexing.html#returning-a-view-versus-a-copy\n",
      "/opt/conda/lib/python3.7/site-packages/ipykernel_launcher.py:23: SettingWithCopyWarning: \n",
      "A value is trying to be set on a copy of a slice from a DataFrame.\n",
      "Try using .loc[row_indexer,col_indexer] = value instead\n",
      "\n",
      "See the caveats in the documentation: https://pandas.pydata.org/pandas-docs/stable/user_guide/indexing.html#returning-a-view-versus-a-copy\n",
      "/opt/conda/lib/python3.7/site-packages/ipykernel_launcher.py:24: SettingWithCopyWarning: \n",
      "A value is trying to be set on a copy of a slice from a DataFrame.\n",
      "Try using .loc[row_indexer,col_indexer] = value instead\n",
      "\n",
      "See the caveats in the documentation: https://pandas.pydata.org/pandas-docs/stable/user_guide/indexing.html#returning-a-view-versus-a-copy\n",
      "/opt/conda/lib/python3.7/site-packages/ipykernel_launcher.py:26: SettingWithCopyWarning: \n",
      "A value is trying to be set on a copy of a slice from a DataFrame.\n",
      "Try using .loc[row_indexer,col_indexer] = value instead\n",
      "\n",
      "See the caveats in the documentation: https://pandas.pydata.org/pandas-docs/stable/user_guide/indexing.html#returning-a-view-versus-a-copy\n"
     ]
    }
   ],
   "source": [
    "true_df = date_check_df.loc[date_check_df['check'] == 'True']\n",
    "true_symbol_list = true_df['Symbol'].to_list()\n",
    "\n",
    "days_list = []\n",
    "date_0_list = []\n",
    "date_1_list = []\n",
    "close_list_1 = []\n",
    "close_list_0 = []\n",
    "for symbol in true_symbol_list:\n",
    "    symbol_date = date_df.loc[date_df['Symbol'] == symbol]['Date'].values\n",
    "    symbol_date_1 = dt.datetime.strptime(symbol_date[1], '%Y-%m-%d').date()\n",
    "    symbol_date_0 = dt.datetime.strptime(symbol_date[0], '%Y-%m-%d').date()\n",
    "    days_list.append((symbol_date_1 - symbol_date_0).days)\n",
    "    date_0_list.append(symbol_date_0)\n",
    "    date_1_list.append(symbol_date_1)\n",
    "    close_list_0.append(date_df.loc[date_df['Symbol'] == symbol]['Close'].values[0])\n",
    "    close_list_1.append(date_df.loc[date_df['Symbol'] == symbol]['Close'].values[1])\n",
    "    \n",
    "    \n",
    "true_df['days'] = days_list\n",
    "true_df['date_0'] = date_0_list\n",
    "true_df['date_1'] = date_1_list\n",
    "true_df['Close_min'] = close_list_0\n",
    "true_df['Close_max'] = close_list_1\n",
    "\n",
    "true_df['rate'] = true_df['Close_max']/true_df['Close_min']"
   ]
  },
  {
   "cell_type": "code",
   "execution_count": 22,
   "id": "c01f7103",
   "metadata": {
    "execution": {
     "iopub.execute_input": "2023-01-01T02:04:26.969872Z",
     "iopub.status.busy": "2023-01-01T02:04:26.969314Z",
     "iopub.status.idle": "2023-01-01T02:04:26.985906Z",
     "shell.execute_reply": "2023-01-01T02:04:26.984550Z"
    },
    "papermill": {
     "duration": 0.03889,
     "end_time": "2023-01-01T02:04:26.988183",
     "exception": false,
     "start_time": "2023-01-01T02:04:26.949293",
     "status": "completed"
    },
    "tags": []
   },
   "outputs": [
    {
     "data": {
      "text/html": [
       "<div>\n",
       "<style scoped>\n",
       "    .dataframe tbody tr th:only-of-type {\n",
       "        vertical-align: middle;\n",
       "    }\n",
       "\n",
       "    .dataframe tbody tr th {\n",
       "        vertical-align: top;\n",
       "    }\n",
       "\n",
       "    .dataframe thead th {\n",
       "        text-align: right;\n",
       "    }\n",
       "</style>\n",
       "<table border=\"1\" class=\"dataframe\">\n",
       "  <thead>\n",
       "    <tr style=\"text-align: right;\">\n",
       "      <th></th>\n",
       "      <th>Symbol</th>\n",
       "      <th>check</th>\n",
       "      <th>days</th>\n",
       "      <th>date_0</th>\n",
       "      <th>date_1</th>\n",
       "      <th>Close_min</th>\n",
       "      <th>Close_max</th>\n",
       "      <th>rate</th>\n",
       "    </tr>\n",
       "  </thead>\n",
       "  <tbody>\n",
       "    <tr>\n",
       "      <th>0</th>\n",
       "      <td>MMM</td>\n",
       "      <td>True</td>\n",
       "      <td>140</td>\n",
       "      <td>2010-06-07</td>\n",
       "      <td>2010-10-25</td>\n",
       "      <td>74.739998</td>\n",
       "      <td>90.900002</td>\n",
       "      <td>1.216216</td>\n",
       "    </tr>\n",
       "    <tr>\n",
       "      <th>1</th>\n",
       "      <td>AOS</td>\n",
       "      <td>True</td>\n",
       "      <td>309</td>\n",
       "      <td>2010-02-04</td>\n",
       "      <td>2010-12-10</td>\n",
       "      <td>6.910000</td>\n",
       "      <td>10.767500</td>\n",
       "      <td>1.558249</td>\n",
       "    </tr>\n",
       "    <tr>\n",
       "      <th>3</th>\n",
       "      <td>ABMD</td>\n",
       "      <td>True</td>\n",
       "      <td>328</td>\n",
       "      <td>2010-01-12</td>\n",
       "      <td>2010-12-06</td>\n",
       "      <td>7.890000</td>\n",
       "      <td>12.190000</td>\n",
       "      <td>1.544994</td>\n",
       "    </tr>\n",
       "    <tr>\n",
       "      <th>4</th>\n",
       "      <td>ACN</td>\n",
       "      <td>True</td>\n",
       "      <td>1</td>\n",
       "      <td>2010-06-08</td>\n",
       "      <td>2010-06-09</td>\n",
       "      <td>36.439999</td>\n",
       "      <td>36.439999</td>\n",
       "      <td>1.000000</td>\n",
       "    </tr>\n",
       "    <tr>\n",
       "      <th>5</th>\n",
       "      <td>ATVI</td>\n",
       "      <td>True</td>\n",
       "      <td>338</td>\n",
       "      <td>2010-01-26</td>\n",
       "      <td>2010-12-30</td>\n",
       "      <td>10.010000</td>\n",
       "      <td>12.570000</td>\n",
       "      <td>1.255744</td>\n",
       "    </tr>\n",
       "  </tbody>\n",
       "</table>\n",
       "</div>"
      ],
      "text/plain": [
       "  Symbol check  days      date_0      date_1  Close_min  Close_max      rate\n",
       "0    MMM  True   140  2010-06-07  2010-10-25  74.739998  90.900002  1.216216\n",
       "1    AOS  True   309  2010-02-04  2010-12-10   6.910000  10.767500  1.558249\n",
       "3   ABMD  True   328  2010-01-12  2010-12-06   7.890000  12.190000  1.544994\n",
       "4    ACN  True     1  2010-06-08  2010-06-09  36.439999  36.439999  1.000000\n",
       "5   ATVI  True   338  2010-01-26  2010-12-30  10.010000  12.570000  1.255744"
      ]
     },
     "execution_count": 22,
     "metadata": {},
     "output_type": "execute_result"
    }
   ],
   "source": [
    "true_df.head()"
   ]
  },
  {
   "cell_type": "code",
   "execution_count": 23,
   "id": "c8e2b87b",
   "metadata": {
    "execution": {
     "iopub.execute_input": "2023-01-01T02:04:27.029875Z",
     "iopub.status.busy": "2023-01-01T02:04:27.029423Z",
     "iopub.status.idle": "2023-01-01T02:04:27.213984Z",
     "shell.execute_reply": "2023-01-01T02:04:27.212765Z"
    },
    "papermill": {
     "duration": 0.208974,
     "end_time": "2023-01-01T02:04:27.216295",
     "exception": false,
     "start_time": "2023-01-01T02:04:27.007321",
     "status": "completed"
    },
    "tags": []
   },
   "outputs": [
    {
     "data": {
      "text/plain": [
       "<AxesSubplot:>"
      ]
     },
     "execution_count": 23,
     "metadata": {},
     "output_type": "execute_result"
    },
    {
     "data": {
      "image/png": "[encoded data removed]",
      "text/plain": [
       "<Figure size 432x288 with 1 Axes>"
      ]
     },
     "metadata": {
      "needs_background": "light"
     },
     "output_type": "display_data"
    }
   ],
   "source": [
    "true_df.rate.hist()"
   ]
  },
  {
   "cell_type": "code",
   "execution_count": 24,
   "id": "4ed36e02",
   "metadata": {
    "execution": {
     "iopub.execute_input": "2023-01-01T02:04:27.253234Z",
     "iopub.status.busy": "2023-01-01T02:04:27.252900Z",
     "iopub.status.idle": "2023-01-01T02:04:27.460319Z",
     "shell.execute_reply": "2023-01-01T02:04:27.458611Z"
    },
    "papermill": {
     "duration": 0.229246,
     "end_time": "2023-01-01T02:04:27.463553",
     "exception": false,
     "start_time": "2023-01-01T02:04:27.234307",
     "status": "completed"
    },
    "tags": []
   },
   "outputs": [
    {
     "data": {
      "text/plain": [
       "<AxesSubplot:>"
      ]
     },
     "execution_count": 24,
     "metadata": {},
     "output_type": "execute_result"
    },
    {
     "data": {
      "image/png": "[encoded data removed]",
      "text/plain": [
       "<Figure size 432x288 with 1 Axes>"
      ]
     },
     "metadata": {
      "needs_background": "light"
     },
     "output_type": "display_data"
    }
   ],
   "source": [
    "true_df.date_0.hist()"
   ]
  },
  {
   "cell_type": "code",
   "execution_count": 25,
   "id": "99c62dd0",
   "metadata": {
    "execution": {
     "iopub.execute_input": "2023-01-01T02:04:27.503567Z",
     "iopub.status.busy": "2023-01-01T02:04:27.503167Z",
     "iopub.status.idle": "2023-01-01T02:04:27.712857Z",
     "shell.execute_reply": "2023-01-01T02:04:27.710852Z"
    },
    "papermill": {
     "duration": 0.233476,
     "end_time": "2023-01-01T02:04:27.715865",
     "exception": false,
     "start_time": "2023-01-01T02:04:27.482389",
     "status": "completed"
    },
    "tags": []
   },
   "outputs": [
    {
     "data": {
      "text/plain": [
       "<AxesSubplot:>"
      ]
     },
     "execution_count": 25,
     "metadata": {},
     "output_type": "execute_result"
    },
    {
     "data": {
      "image/png": "[encoded data removed]",
      "text/plain": [
       "<Figure size 432x288 with 1 Axes>"
      ]
     },
     "metadata": {
      "needs_background": "light"
     },
     "output_type": "display_data"
    }
   ],
   "source": [
    "true_df.date_1.hist()"
   ]
  },
  {
   "cell_type": "code",
   "execution_count": 26,
   "id": "13b6fe1b",
   "metadata": {
    "execution": {
     "iopub.execute_input": "2023-01-01T02:04:27.756434Z",
     "iopub.status.busy": "2023-01-01T02:04:27.755969Z",
     "iopub.status.idle": "2023-01-01T02:04:27.767012Z",
     "shell.execute_reply": "2023-01-01T02:04:27.766017Z"
    },
    "papermill": {
     "duration": 0.034454,
     "end_time": "2023-01-01T02:04:27.769776",
     "exception": false,
     "start_time": "2023-01-01T02:04:27.735322",
     "status": "completed"
    },
    "tags": []
   },
   "outputs": [
    {
     "data": {
      "text/plain": [
       "count    314.000000\n",
       "mean     229.363057\n",
       "std       92.294892\n",
       "min        1.000000\n",
       "25%      157.000000\n",
       "50%      249.000000\n",
       "75%      316.000000\n",
       "max      360.000000\n",
       "Name: days, dtype: float64"
      ]
     },
     "execution_count": 26,
     "metadata": {},
     "output_type": "execute_result"
    }
   ],
   "source": [
    "true_df.days.describe()"
   ]
  },
  {
   "cell_type": "code",
   "execution_count": 27,
   "id": "ecad9103",
   "metadata": {
    "execution": {
     "iopub.execute_input": "2023-01-01T02:04:27.810418Z",
     "iopub.status.busy": "2023-01-01T02:04:27.810014Z",
     "iopub.status.idle": "2023-01-01T02:04:27.823136Z",
     "shell.execute_reply": "2023-01-01T02:04:27.822079Z"
    },
    "papermill": {
     "duration": 0.036621,
     "end_time": "2023-01-01T02:04:27.826057",
     "exception": false,
     "start_time": "2023-01-01T02:04:27.789436",
     "status": "completed"
    },
    "tags": []
   },
   "outputs": [
    {
     "data": {
      "text/plain": [
       "count    314.000000\n",
       "mean       1.543315\n",
       "std        0.368915\n",
       "min        1.000000\n",
       "25%        1.342413\n",
       "50%        1.457560\n",
       "75%        1.627137\n",
       "max        4.190922\n",
       "Name: rate, dtype: float64"
      ]
     },
     "execution_count": 27,
     "metadata": {},
     "output_type": "execute_result"
    }
   ],
   "source": [
    "true_df.rate.describe()"
   ]
  },
  {
   "cell_type": "code",
   "execution_count": 28,
   "id": "ff5915a3",
   "metadata": {
    "execution": {
     "iopub.execute_input": "2023-01-01T02:04:27.866520Z",
     "iopub.status.busy": "2023-01-01T02:04:27.866100Z",
     "iopub.status.idle": "2023-01-01T02:04:27.882331Z",
     "shell.execute_reply": "2023-01-01T02:04:27.881282Z"
    },
    "papermill": {
     "duration": 0.039316,
     "end_time": "2023-01-01T02:04:27.884924",
     "exception": false,
     "start_time": "2023-01-01T02:04:27.845608",
     "status": "completed"
    },
    "tags": []
   },
   "outputs": [
    {
     "data": {
      "text/html": [
       "<div>\n",
       "<style scoped>\n",
       "    .dataframe tbody tr th:only-of-type {\n",
       "        vertical-align: middle;\n",
       "    }\n",
       "\n",
       "    .dataframe tbody tr th {\n",
       "        vertical-align: top;\n",
       "    }\n",
       "\n",
       "    .dataframe thead th {\n",
       "        text-align: right;\n",
       "    }\n",
       "</style>\n",
       "<table border=\"1\" class=\"dataframe\">\n",
       "  <thead>\n",
       "    <tr style=\"text-align: right;\">\n",
       "      <th></th>\n",
       "      <th>Symbol</th>\n",
       "      <th>check</th>\n",
       "      <th>days</th>\n",
       "      <th>date_0</th>\n",
       "      <th>date_1</th>\n",
       "      <th>Close_min</th>\n",
       "      <th>Close_max</th>\n",
       "      <th>rate</th>\n",
       "    </tr>\n",
       "  </thead>\n",
       "  <tbody>\n",
       "    <tr>\n",
       "      <th>4</th>\n",
       "      <td>ACN</td>\n",
       "      <td>True</td>\n",
       "      <td>1</td>\n",
       "      <td>2010-06-08</td>\n",
       "      <td>2010-06-09</td>\n",
       "      <td>36.439999</td>\n",
       "      <td>36.439999</td>\n",
       "      <td>1.0</td>\n",
       "    </tr>\n",
       "    <tr>\n",
       "      <th>32</th>\n",
       "      <td>AWK</td>\n",
       "      <td>True</td>\n",
       "      <td>3</td>\n",
       "      <td>2010-06-04</td>\n",
       "      <td>2010-06-07</td>\n",
       "      <td>19.920000</td>\n",
       "      <td>19.920000</td>\n",
       "      <td>1.0</td>\n",
       "    </tr>\n",
       "    <tr>\n",
       "      <th>95</th>\n",
       "      <td>CB</td>\n",
       "      <td>True</td>\n",
       "      <td>2</td>\n",
       "      <td>2010-01-06</td>\n",
       "      <td>2010-01-08</td>\n",
       "      <td>47.500000</td>\n",
       "      <td>47.500000</td>\n",
       "      <td>1.0</td>\n",
       "    </tr>\n",
       "    <tr>\n",
       "      <th>100</th>\n",
       "      <td>C</td>\n",
       "      <td>True</td>\n",
       "      <td>13</td>\n",
       "      <td>2010-01-26</td>\n",
       "      <td>2010-02-08</td>\n",
       "      <td>31.500000</td>\n",
       "      <td>31.500000</td>\n",
       "      <td>1.0</td>\n",
       "    </tr>\n",
       "    <tr>\n",
       "      <th>226</th>\n",
       "      <td>KDP</td>\n",
       "      <td>True</td>\n",
       "      <td>4</td>\n",
       "      <td>2010-02-04</td>\n",
       "      <td>2010-02-08</td>\n",
       "      <td>26.840000</td>\n",
       "      <td>26.840000</td>\n",
       "      <td>1.0</td>\n",
       "    </tr>\n",
       "    <tr>\n",
       "      <th>239</th>\n",
       "      <td>LYV</td>\n",
       "      <td>True</td>\n",
       "      <td>11</td>\n",
       "      <td>2010-08-13</td>\n",
       "      <td>2010-08-24</td>\n",
       "      <td>8.430000</td>\n",
       "      <td>8.430000</td>\n",
       "      <td>1.0</td>\n",
       "    </tr>\n",
       "    <tr>\n",
       "      <th>311</th>\n",
       "      <td>PNW</td>\n",
       "      <td>True</td>\n",
       "      <td>1</td>\n",
       "      <td>2010-05-25</td>\n",
       "      <td>2010-05-26</td>\n",
       "      <td>34.500000</td>\n",
       "      <td>34.500000</td>\n",
       "      <td>1.0</td>\n",
       "    </tr>\n",
       "    <tr>\n",
       "      <th>346</th>\n",
       "      <td>STX</td>\n",
       "      <td>True</td>\n",
       "      <td>5</td>\n",
       "      <td>2010-08-26</td>\n",
       "      <td>2010-08-31</td>\n",
       "      <td>10.140000</td>\n",
       "      <td>10.140000</td>\n",
       "      <td>1.0</td>\n",
       "    </tr>\n",
       "    <tr>\n",
       "      <th>360</th>\n",
       "      <td>STE</td>\n",
       "      <td>True</td>\n",
       "      <td>3</td>\n",
       "      <td>2010-01-29</td>\n",
       "      <td>2010-02-01</td>\n",
       "      <td>26.080000</td>\n",
       "      <td>26.080000</td>\n",
       "      <td>1.0</td>\n",
       "    </tr>\n",
       "    <tr>\n",
       "      <th>370</th>\n",
       "      <td>TDY</td>\n",
       "      <td>True</td>\n",
       "      <td>201</td>\n",
       "      <td>2010-02-04</td>\n",
       "      <td>2010-08-24</td>\n",
       "      <td>35.980000</td>\n",
       "      <td>35.980000</td>\n",
       "      <td>1.0</td>\n",
       "    </tr>\n",
       "    <tr>\n",
       "      <th>412</th>\n",
       "      <td>WST</td>\n",
       "      <td>True</td>\n",
       "      <td>4</td>\n",
       "      <td>2010-09-23</td>\n",
       "      <td>2010-09-27</td>\n",
       "      <td>16.520000</td>\n",
       "      <td>16.520000</td>\n",
       "      <td>1.0</td>\n",
       "    </tr>\n",
       "  </tbody>\n",
       "</table>\n",
       "</div>"
      ],
      "text/plain": [
       "    Symbol check  days      date_0      date_1  Close_min  Close_max  rate\n",
       "4      ACN  True     1  2010-06-08  2010-06-09  36.439999  36.439999   1.0\n",
       "32     AWK  True     3  2010-06-04  2010-06-07  19.920000  19.920000   1.0\n",
       "95      CB  True     2  2010-01-06  2010-01-08  47.500000  47.500000   1.0\n",
       "100      C  True    13  2010-01-26  2010-02-08  31.500000  31.500000   1.0\n",
       "226    KDP  True     4  2010-02-04  2010-02-08  26.840000  26.840000   1.0\n",
       "239    LYV  True    11  2010-08-13  2010-08-24   8.430000   8.430000   1.0\n",
       "311    PNW  True     1  2010-05-25  2010-05-26  34.500000  34.500000   1.0\n",
       "346    STX  True     5  2010-08-26  2010-08-31  10.140000  10.140000   1.0\n",
       "360    STE  True     3  2010-01-29  2010-02-01  26.080000  26.080000   1.0\n",
       "370    TDY  True   201  2010-02-04  2010-08-24  35.980000  35.980000   1.0\n",
       "412    WST  True     4  2010-09-23  2010-09-27  16.520000  16.520000   1.0"
      ]
     },
     "execution_count": 28,
     "metadata": {},
     "output_type": "execute_result"
    }
   ],
   "source": [
    "true_df.loc[true_df['rate'] <= 1.2]\n",
    "# 밑에 같은 사례들이 존재함. 예를 들어 최소나 최대 값이 동일한 날이 있는 경우.\n",
    "# 우선 drop"
   ]
  },
  {
   "cell_type": "code",
   "execution_count": 29,
   "id": "de4197d7",
   "metadata": {
    "execution": {
     "iopub.execute_input": "2023-01-01T02:04:27.925567Z",
     "iopub.status.busy": "2023-01-01T02:04:27.924255Z",
     "iopub.status.idle": "2023-01-01T02:04:27.937060Z",
     "shell.execute_reply": "2023-01-01T02:04:27.935805Z"
    },
    "papermill": {
     "duration": 0.036149,
     "end_time": "2023-01-01T02:04:27.939807",
     "exception": false,
     "start_time": "2023-01-01T02:04:27.903658",
     "status": "completed"
    },
    "tags": []
   },
   "outputs": [
    {
     "data": {
      "text/html": [
       "<div>\n",
       "<style scoped>\n",
       "    .dataframe tbody tr th:only-of-type {\n",
       "        vertical-align: middle;\n",
       "    }\n",
       "\n",
       "    .dataframe tbody tr th {\n",
       "        vertical-align: top;\n",
       "    }\n",
       "\n",
       "    .dataframe thead th {\n",
       "        text-align: right;\n",
       "    }\n",
       "</style>\n",
       "<table border=\"1\" class=\"dataframe\">\n",
       "  <thead>\n",
       "    <tr style=\"text-align: right;\">\n",
       "      <th></th>\n",
       "      <th>Date</th>\n",
       "      <th>Symbol</th>\n",
       "      <th>Close</th>\n",
       "    </tr>\n",
       "  </thead>\n",
       "  <tbody>\n",
       "    <tr>\n",
       "      <th>16397</th>\n",
       "      <td>2010-06-08</td>\n",
       "      <td>ACN</td>\n",
       "      <td>36.439999</td>\n",
       "    </tr>\n",
       "    <tr>\n",
       "      <th>16398</th>\n",
       "      <td>2010-06-09</td>\n",
       "      <td>ACN</td>\n",
       "      <td>36.439999</td>\n",
       "    </tr>\n",
       "    <tr>\n",
       "      <th>16532</th>\n",
       "      <td>2010-12-17</td>\n",
       "      <td>ACN</td>\n",
       "      <td>50.320000</td>\n",
       "    </tr>\n",
       "  </tbody>\n",
       "</table>\n",
       "</div>"
      ],
      "text/plain": [
       "             Date Symbol      Close\n",
       "16397  2010-06-08    ACN  36.439999\n",
       "16398  2010-06-09    ACN  36.439999\n",
       "16532  2010-12-17    ACN  50.320000"
      ]
     },
     "execution_count": 29,
     "metadata": {},
     "output_type": "execute_result"
    }
   ],
   "source": [
    "date_df.loc[date_df['Symbol'] == 'ACN']"
   ]
  },
  {
   "cell_type": "code",
   "execution_count": 30,
   "id": "620557cc",
   "metadata": {
    "execution": {
     "iopub.execute_input": "2023-01-01T02:04:27.982160Z",
     "iopub.status.busy": "2023-01-01T02:04:27.981792Z",
     "iopub.status.idle": "2023-01-01T02:04:27.989054Z",
     "shell.execute_reply": "2023-01-01T02:04:27.987240Z"
    },
    "papermill": {
     "duration": 0.031822,
     "end_time": "2023-01-01T02:04:27.992016",
     "exception": false,
     "start_time": "2023-01-01T02:04:27.960194",
     "status": "completed"
    },
    "tags": []
   },
   "outputs": [],
   "source": [
    "ex = true_df.loc[true_df['rate'] <= 1.2].index"
   ]
  },
  {
   "cell_type": "code",
   "execution_count": 31,
   "id": "22a96a62",
   "metadata": {
    "execution": {
     "iopub.execute_input": "2023-01-01T02:04:28.033454Z",
     "iopub.status.busy": "2023-01-01T02:04:28.032576Z",
     "iopub.status.idle": "2023-01-01T02:04:28.042783Z",
     "shell.execute_reply": "2023-01-01T02:04:28.041821Z"
    },
    "papermill": {
     "duration": 0.033837,
     "end_time": "2023-01-01T02:04:28.045317",
     "exception": false,
     "start_time": "2023-01-01T02:04:28.011480",
     "status": "completed"
    },
    "tags": []
   },
   "outputs": [
    {
     "data": {
      "text/plain": [
       "count    303.000000\n",
       "mean       1.563039\n",
       "std        0.360435\n",
       "min        1.201060\n",
       "25%        1.350280\n",
       "50%        1.462295\n",
       "75%        1.631465\n",
       "max        4.190922\n",
       "Name: rate, dtype: float64"
      ]
     },
     "execution_count": 31,
     "metadata": {},
     "output_type": "execute_result"
    }
   ],
   "source": [
    "true_df.drop(index = ex).rate.describe()"
   ]
  },
  {
   "cell_type": "code",
   "execution_count": 32,
   "id": "a357b4fe",
   "metadata": {
    "execution": {
     "iopub.execute_input": "2023-01-01T02:04:28.087299Z",
     "iopub.status.busy": "2023-01-01T02:04:28.086680Z",
     "iopub.status.idle": "2023-01-01T02:04:28.253530Z",
     "shell.execute_reply": "2023-01-01T02:04:28.252163Z"
    },
    "papermill": {
     "duration": 0.191598,
     "end_time": "2023-01-01T02:04:28.256073",
     "exception": false,
     "start_time": "2023-01-01T02:04:28.064475",
     "status": "completed"
    },
    "tags": []
   },
   "outputs": [
    {
     "data": {
      "text/plain": [
       "<AxesSubplot:>"
      ]
     },
     "execution_count": 32,
     "metadata": {},
     "output_type": "execute_result"
    },
    {
     "data": {
      "image/png": "[encoded data removed]",
      "text/plain": [
       "<Figure size 432x288 with 1 Axes>"
      ]
     },
     "metadata": {
      "needs_background": "light"
     },
     "output_type": "display_data"
    }
   ],
   "source": [
    "true_df.drop(index = ex).rate.hist()"
   ]
  },
  {
   "cell_type": "code",
   "execution_count": null,
   "id": "c3508278",
   "metadata": {
    "papermill": {
     "duration": 0.019506,
     "end_time": "2023-01-01T02:04:28.295918",
     "exception": false,
     "start_time": "2023-01-01T02:04:28.276412",
     "status": "completed"
    },
    "tags": []
   },
   "outputs": [],
   "source": []
  },
  {
   "cell_type": "code",
   "execution_count": null,
   "id": "87db4566",
   "metadata": {
    "papermill": {
     "duration": 0.018988,
     "end_time": "2023-01-01T02:04:28.334529",
     "exception": false,
     "start_time": "2023-01-01T02:04:28.315541",
     "status": "completed"
    },
    "tags": []
   },
   "outputs": [],
   "source": []
  }
 ],
 "metadata": {
  "kernelspec": {
   "display_name": "Python 3",
   "language": "python",
   "name": "python3"
  },
  "language_info": {
   "codemirror_mode": {
    "name": "ipython",
    "version": 3
   },
   "file_extension": ".py",
   "mimetype": "text/x-python",
   "name": "python",
   "nbconvert_exporter": "python",
   "pygments_lexer": "ipython3",
   "version": "3.7.12"
  },
  "papermill": {
   "default_parameters": {},
   "duration": 49.867967,
   "end_time": "2023-01-01T02:04:29.277892",
   "environment_variables": {},
   "exception": null,
   "input_path": "__notebook__.ipynb",
   "output_path": "__notebook__.ipynb",
   "parameters": {},
   "start_time": "2023-01-01T02:03:39.409925",
   "version": "2.3.4"
  }
 },
 "nbformat": 4,
 "nbformat_minor": 5
}
